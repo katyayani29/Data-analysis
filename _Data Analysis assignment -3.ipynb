{
 "cells": [
  {
   "cell_type": "code",
   "execution_count": 1,
   "id": "92a47419",
   "metadata": {},
   "outputs": [],
   "source": [
    "import pandas as pd"
   ]
  },
  {
   "cell_type": "code",
   "execution_count": 2,
   "id": "32864e66",
   "metadata": {},
   "outputs": [],
   "source": [
    "import numpy as np"
   ]
  },
  {
   "cell_type": "code",
   "execution_count": 3,
   "id": "afda6082",
   "metadata": {},
   "outputs": [],
   "source": [
    "data=pd.read_csv(r\"C:\\Users\\KATYAYANI\\Downloads\\all_grains_data.csv\")"
   ]
  },
  {
   "cell_type": "code",
   "execution_count": 4,
   "id": "77b61c82",
   "metadata": {},
   "outputs": [
    {
     "data": {
      "text/html": [
       "<div>\n",
       "<style scoped>\n",
       "    .dataframe tbody tr th:only-of-type {\n",
       "        vertical-align: middle;\n",
       "    }\n",
       "\n",
       "    .dataframe tbody tr th {\n",
       "        vertical-align: top;\n",
       "    }\n",
       "\n",
       "    .dataframe thead th {\n",
       "        text-align: right;\n",
       "    }\n",
       "</style>\n",
       "<table border=\"1\" class=\"dataframe\">\n",
       "  <thead>\n",
       "    <tr style=\"text-align: right;\">\n",
       "      <th></th>\n",
       "      <th>ticker</th>\n",
       "      <th>commodity</th>\n",
       "      <th>date</th>\n",
       "      <th>open</th>\n",
       "      <th>high</th>\n",
       "      <th>low</th>\n",
       "      <th>close</th>\n",
       "      <th>volume</th>\n",
       "    </tr>\n",
       "  </thead>\n",
       "  <tbody>\n",
       "    <tr>\n",
       "      <th>0</th>\n",
       "      <td>ZC=F</td>\n",
       "      <td>Corn</td>\n",
       "      <td>2000-07-17</td>\n",
       "      <td>182.25</td>\n",
       "      <td>182.25</td>\n",
       "      <td>178.25</td>\n",
       "      <td>179.25</td>\n",
       "      <td>19385</td>\n",
       "    </tr>\n",
       "    <tr>\n",
       "      <th>1</th>\n",
       "      <td>ZC=F</td>\n",
       "      <td>Corn</td>\n",
       "      <td>2000-07-18</td>\n",
       "      <td>179.00</td>\n",
       "      <td>183.25</td>\n",
       "      <td>179.00</td>\n",
       "      <td>180.75</td>\n",
       "      <td>25205</td>\n",
       "    </tr>\n",
       "    <tr>\n",
       "      <th>2</th>\n",
       "      <td>ZC=F</td>\n",
       "      <td>Corn</td>\n",
       "      <td>2000-07-19</td>\n",
       "      <td>180.00</td>\n",
       "      <td>182.75</td>\n",
       "      <td>178.75</td>\n",
       "      <td>182.00</td>\n",
       "      <td>17126</td>\n",
       "    </tr>\n",
       "    <tr>\n",
       "      <th>3</th>\n",
       "      <td>ZC=F</td>\n",
       "      <td>Corn</td>\n",
       "      <td>2000-07-20</td>\n",
       "      <td>181.50</td>\n",
       "      <td>187.00</td>\n",
       "      <td>181.00</td>\n",
       "      <td>186.00</td>\n",
       "      <td>18742</td>\n",
       "    </tr>\n",
       "    <tr>\n",
       "      <th>4</th>\n",
       "      <td>ZC=F</td>\n",
       "      <td>Corn</td>\n",
       "      <td>2000-07-21</td>\n",
       "      <td>185.50</td>\n",
       "      <td>188.00</td>\n",
       "      <td>185.00</td>\n",
       "      <td>187.75</td>\n",
       "      <td>16814</td>\n",
       "    </tr>\n",
       "    <tr>\n",
       "      <th>...</th>\n",
       "      <td>...</td>\n",
       "      <td>...</td>\n",
       "      <td>...</td>\n",
       "      <td>...</td>\n",
       "      <td>...</td>\n",
       "      <td>...</td>\n",
       "      <td>...</td>\n",
       "      <td>...</td>\n",
       "    </tr>\n",
       "    <tr>\n",
       "      <th>34878</th>\n",
       "      <td>ZS=F</td>\n",
       "      <td>Soybean</td>\n",
       "      <td>2023-09-11</td>\n",
       "      <td>1352.50</td>\n",
       "      <td>1352.50</td>\n",
       "      <td>1352.00</td>\n",
       "      <td>1352.50</td>\n",
       "      <td>36</td>\n",
       "    </tr>\n",
       "    <tr>\n",
       "      <th>34879</th>\n",
       "      <td>ZS=F</td>\n",
       "      <td>Soybean</td>\n",
       "      <td>2023-09-12</td>\n",
       "      <td>1348.75</td>\n",
       "      <td>1348.75</td>\n",
       "      <td>1331.75</td>\n",
       "      <td>1331.75</td>\n",
       "      <td>274</td>\n",
       "    </tr>\n",
       "    <tr>\n",
       "      <th>34880</th>\n",
       "      <td>ZS=F</td>\n",
       "      <td>Soybean</td>\n",
       "      <td>2023-09-13</td>\n",
       "      <td>1325.50</td>\n",
       "      <td>1336.00</td>\n",
       "      <td>1325.50</td>\n",
       "      <td>1336.00</td>\n",
       "      <td>201</td>\n",
       "    </tr>\n",
       "    <tr>\n",
       "      <th>34881</th>\n",
       "      <td>ZS=F</td>\n",
       "      <td>Soybean</td>\n",
       "      <td>2023-09-14</td>\n",
       "      <td>1343.75</td>\n",
       "      <td>1343.75</td>\n",
       "      <td>1343.75</td>\n",
       "      <td>1343.75</td>\n",
       "      <td>138778</td>\n",
       "    </tr>\n",
       "    <tr>\n",
       "      <th>34882</th>\n",
       "      <td>ZS=F</td>\n",
       "      <td>Soybean</td>\n",
       "      <td>2023-09-15</td>\n",
       "      <td>1360.50</td>\n",
       "      <td>1367.75</td>\n",
       "      <td>1338.25</td>\n",
       "      <td>1340.25</td>\n",
       "      <td>138778</td>\n",
       "    </tr>\n",
       "  </tbody>\n",
       "</table>\n",
       "<p>34883 rows × 8 columns</p>\n",
       "</div>"
      ],
      "text/plain": [
       "      ticker commodity        date     open     high      low    close  volume\n",
       "0       ZC=F      Corn  2000-07-17   182.25   182.25   178.25   179.25   19385\n",
       "1       ZC=F      Corn  2000-07-18   179.00   183.25   179.00   180.75   25205\n",
       "2       ZC=F      Corn  2000-07-19   180.00   182.75   178.75   182.00   17126\n",
       "3       ZC=F      Corn  2000-07-20   181.50   187.00   181.00   186.00   18742\n",
       "4       ZC=F      Corn  2000-07-21   185.50   188.00   185.00   187.75   16814\n",
       "...      ...       ...         ...      ...      ...      ...      ...     ...\n",
       "34878   ZS=F   Soybean  2023-09-11  1352.50  1352.50  1352.00  1352.50      36\n",
       "34879   ZS=F   Soybean  2023-09-12  1348.75  1348.75  1331.75  1331.75     274\n",
       "34880   ZS=F   Soybean  2023-09-13  1325.50  1336.00  1325.50  1336.00     201\n",
       "34881   ZS=F   Soybean  2023-09-14  1343.75  1343.75  1343.75  1343.75  138778\n",
       "34882   ZS=F   Soybean  2023-09-15  1360.50  1367.75  1338.25  1340.25  138778\n",
       "\n",
       "[34883 rows x 8 columns]"
      ]
     },
     "execution_count": 4,
     "metadata": {},
     "output_type": "execute_result"
    }
   ],
   "source": [
    "data"
   ]
  },
  {
   "cell_type": "code",
   "execution_count": 5,
   "id": "364e7003",
   "metadata": {},
   "outputs": [],
   "source": [
    "data[\"date\"]=pd.to_datetime(data[\"date\"])"
   ]
  },
  {
   "cell_type": "code",
   "execution_count": 6,
   "id": "218a9ee5",
   "metadata": {},
   "outputs": [
    {
     "name": "stdout",
     "output_type": "stream",
     "text": [
      "<class 'pandas.core.frame.DataFrame'>\n",
      "RangeIndex: 34883 entries, 0 to 34882\n",
      "Data columns (total 8 columns):\n",
      " #   Column     Non-Null Count  Dtype         \n",
      "---  ------     --------------  -----         \n",
      " 0   ticker     34883 non-null  object        \n",
      " 1   commodity  34883 non-null  object        \n",
      " 2   date       34883 non-null  datetime64[ns]\n",
      " 3   open       34883 non-null  float64       \n",
      " 4   high       34883 non-null  float64       \n",
      " 5   low        34883 non-null  float64       \n",
      " 6   close      34883 non-null  float64       \n",
      " 7   volume     34883 non-null  int64         \n",
      "dtypes: datetime64[ns](1), float64(4), int64(1), object(2)\n",
      "memory usage: 2.1+ MB\n"
     ]
    }
   ],
   "source": [
    "data.info()"
   ]
  },
  {
   "cell_type": "code",
   "execution_count": 7,
   "id": "778f9f79",
   "metadata": {},
   "outputs": [
    {
     "data": {
      "text/html": [
       "<div>\n",
       "<style scoped>\n",
       "    .dataframe tbody tr th:only-of-type {\n",
       "        vertical-align: middle;\n",
       "    }\n",
       "\n",
       "    .dataframe tbody tr th {\n",
       "        vertical-align: top;\n",
       "    }\n",
       "\n",
       "    .dataframe thead th {\n",
       "        text-align: right;\n",
       "    }\n",
       "</style>\n",
       "<table border=\"1\" class=\"dataframe\">\n",
       "  <thead>\n",
       "    <tr style=\"text-align: right;\">\n",
       "      <th></th>\n",
       "      <th>commodity</th>\n",
       "      <th>open</th>\n",
       "      <th>date</th>\n",
       "    </tr>\n",
       "  </thead>\n",
       "  <tbody>\n",
       "    <tr>\n",
       "      <th>19437</th>\n",
       "      <td>Rough Rice</td>\n",
       "      <td>2435.0</td>\n",
       "      <td>2008-04-24</td>\n",
       "    </tr>\n",
       "  </tbody>\n",
       "</table>\n",
       "</div>"
      ],
      "text/plain": [
       "        commodity    open       date\n",
       "19437  Rough Rice  2435.0 2008-04-24"
      ]
     },
     "execution_count": 7,
     "metadata": {},
     "output_type": "execute_result"
    }
   ],
   "source": [
    "#1.Which commodity was having the highest opening price for the day\n",
    "a=data[\"open\"].max()\n",
    "data.loc[data[\"open\"]==a,[\"commodity\",\"open\",\"date\"]]\n",
    "\n",
    "\n",
    "#in this question we analized for highest opening price and date.\n",
    "#here i taken three columns that date,open,commodity columns to get highest price for the day.\n",
    "#by doing analysis based on all commodity rough rice had the highest price on 2008-04-24."
   ]
  },
  {
   "cell_type": "code",
   "execution_count": 8,
   "id": "340f3bf1",
   "metadata": {},
   "outputs": [
    {
     "data": {
      "text/html": [
       "<div>\n",
       "<style scoped>\n",
       "    .dataframe tbody tr th:only-of-type {\n",
       "        vertical-align: middle;\n",
       "    }\n",
       "\n",
       "    .dataframe tbody tr th {\n",
       "        vertical-align: top;\n",
       "    }\n",
       "\n",
       "    .dataframe thead th {\n",
       "        text-align: right;\n",
       "    }\n",
       "</style>\n",
       "<table border=\"1\" class=\"dataframe\">\n",
       "  <thead>\n",
       "    <tr style=\"text-align: right;\">\n",
       "      <th></th>\n",
       "      <th>commodity</th>\n",
       "      <th>high</th>\n",
       "    </tr>\n",
       "  </thead>\n",
       "  <tbody>\n",
       "    <tr>\n",
       "      <th>19437</th>\n",
       "      <td>Rough Rice</td>\n",
       "      <td>2468.5</td>\n",
       "    </tr>\n",
       "  </tbody>\n",
       "</table>\n",
       "</div>"
      ],
      "text/plain": [
       "        commodity    high\n",
       "19437  Rough Rice  2468.5"
      ]
     },
     "execution_count": 8,
     "metadata": {},
     "output_type": "execute_result"
    }
   ],
   "source": [
    "#2.Which commodity price reached  maximum during the trading session.\n",
    "a=data[\"high\"].max()\n",
    "data.loc[data[\"high\"]==a,[\"commodity\",\"high\"]]\n",
    "\n",
    "#by analyzing the commodity column and high column i found maximum commodity is \"rough rice\" had reached maximum trade."
   ]
  },
  {
   "cell_type": "code",
   "execution_count": 9,
   "id": "a1f23b56",
   "metadata": {},
   "outputs": [
    {
     "data": {
      "text/plain": [
       "open    275.116071\n",
       "dtype: float64"
      ]
     },
     "execution_count": 9,
     "metadata": {},
     "output_type": "execute_result"
    }
   ],
   "source": [
    "#3.What is the average Market's opening price for the Oat in 2010\n",
    "data.loc[(data[\"date\"].dt.year==2010) & (data[\"commodity\"]==\"Oat\"),[\"open\"]].mean()\n",
    "\n",
    "#by analyzing the commodity,date and open column to know the oat average price in 2010 is 275.116071"
   ]
  },
  {
   "cell_type": "code",
   "execution_count": 27,
   "id": "da68fdfa",
   "metadata": {},
   "outputs": [
    {
     "name": "stdout",
     "output_type": "stream",
     "text": [
      "volume    0\n",
      "dtype: int64\n",
      "volume    252221\n",
      "dtype: int64\n"
     ]
    }
   ],
   "source": [
    "#4.What is the maximum and minimum Number of contracts traded during the 2009\n",
    "a=data.loc[data[\"date\"].dt.year==2009,[\"volume\"]].min()\n",
    "b=data.loc[data[\"date\"].dt.year==2009,[\"volume\"]].max()\n",
    "print(a)\n",
    "print(b)\n",
    "# by analyzing date and volume columns we find that maximum trade in 2009 is \"252221\".\n",
    "# by analyzing date and volume columns we find that minimum trade in 2009 is \"0\".\n"
   ]
  },
  {
   "cell_type": "code",
   "execution_count": 11,
   "id": "d237dacf",
   "metadata": {},
   "outputs": [
    {
     "name": "stdout",
     "output_type": "stream",
     "text": [
      "MAXIMUm\n",
      "            date\n",
      "4216 2017-06-07\n",
      "MINIMUM\n",
      "             date\n",
      "821   2003-12-11\n",
      "1328  2005-12-13\n",
      "4486  2018-07-03\n",
      "4528  2018-08-31\n",
      "5682  2023-04-06\n",
      "...          ...\n",
      "29219 2001-03-13\n",
      "30306 2005-07-12\n",
      "33573 2018-07-03\n",
      "33615 2018-08-31\n",
      "34771 2023-04-06\n",
      "\n",
      "[2812 rows x 1 columns]\n"
     ]
    }
   ],
   "source": [
    "#5.Which year have  maximum and minimum Number of contracts traded \n",
    "a=data[\"volume\"].max()\n",
    "b=data[\"volume\"].min()\n",
    "x=data.loc[data[\"volume\"]==a,[\"date\"]]\n",
    "y=data.loc[data[\"volume\"]==b,[\"date\"]]\n",
    "print(\"MAXIMUm\\n\",x)\n",
    "print(\"MINIMUM\\n\",y)\n",
    "\n",
    "# By analyzing the volume and date column we find  that in 2017-06-07 having the maximum contracts traded with 4216.\n",
    "# By analyzing the volume and date column we find  that in 821   2003-12-11\n",
    "#1328  2005-12-13\n",
    "#4486  2018-07-03\n",
    "#4528  2018-08-31\n",
    "#5682  2023-04-06\n",
    "...          ...\n",
    "#29219 2001-03-13\n",
    "#30306 2005-07-12\n",
    "#33573 2018-07-03\n",
    "#33615 2018-08-31\n",
    "#34771 2023-04-06 having the minimum contracts trades.\n"
   ]
  },
  {
   "cell_type": "code",
   "execution_count": 20,
   "id": "36ca2cea",
   "metadata": {},
   "outputs": [
    {
     "data": {
      "text/html": [
       "<div>\n",
       "<style scoped>\n",
       "    .dataframe tbody tr th:only-of-type {\n",
       "        vertical-align: middle;\n",
       "    }\n",
       "\n",
       "    .dataframe tbody tr th {\n",
       "        vertical-align: top;\n",
       "    }\n",
       "\n",
       "    .dataframe thead th {\n",
       "        text-align: right;\n",
       "    }\n",
       "</style>\n",
       "<table border=\"1\" class=\"dataframe\">\n",
       "  <thead>\n",
       "    <tr style=\"text-align: right;\">\n",
       "      <th></th>\n",
       "      <th>open</th>\n",
       "    </tr>\n",
       "    <tr>\n",
       "      <th>commodity</th>\n",
       "      <th></th>\n",
       "    </tr>\n",
       "  </thead>\n",
       "  <tbody>\n",
       "    <tr>\n",
       "      <th>Corn</th>\n",
       "      <td>186.25</td>\n",
       "    </tr>\n",
       "    <tr>\n",
       "      <th>KC HRW Wheat</th>\n",
       "      <td>272.25</td>\n",
       "    </tr>\n",
       "    <tr>\n",
       "      <th>Oat</th>\n",
       "      <td>99.50</td>\n",
       "    </tr>\n",
       "    <tr>\n",
       "      <th>Rough Rice</th>\n",
       "      <td>343.00</td>\n",
       "    </tr>\n",
       "    <tr>\n",
       "      <th>Soybean</th>\n",
       "      <td>418.00</td>\n",
       "    </tr>\n",
       "    <tr>\n",
       "      <th>Soybean Oil</th>\n",
       "      <td>14.40</td>\n",
       "    </tr>\n",
       "  </tbody>\n",
       "</table>\n",
       "</div>"
      ],
      "text/plain": [
       "                open\n",
       "commodity           \n",
       "Corn          186.25\n",
       "KC HRW Wheat  272.25\n",
       "Oat            99.50\n",
       "Rough Rice    343.00\n",
       "Soybean       418.00\n",
       "Soybean Oil    14.40"
      ]
     },
     "execution_count": 20,
     "metadata": {},
     "output_type": "execute_result"
    }
   ],
   "source": [
    "#6.Which commodity have the average lowest opening price around 2001 to 2005 \n",
    "a=data.loc[(data[\"date\"].dt.year>=2001) & (data[\"date\"].dt.year<=2005),[\"commodity\",\"open\",\"date\"]]\n",
    "k=a.groupby(\"commodity\")\n",
    "a=k[[\"open\"]].min()\n",
    "a\n",
    "\n",
    "\n",
    "# by analyzing that commodity,open and date column we known that \"soybean oil\" had lowest price with 14.40rs since 2001 to 2005. "
   ]
  },
  {
   "cell_type": "code",
   "execution_count": 22,
   "id": "de683264",
   "metadata": {},
   "outputs": [
    {
     "data": {
      "text/plain": [
       "1143.607924888165"
      ]
     },
     "execution_count": 22,
     "metadata": {},
     "output_type": "execute_result"
    }
   ],
   "source": [
    "#7.Which commodity have the best average  Market's closing price\n",
    "a=data.groupby(\"commodity\")\n",
    "b=a[\"close\"].mean()\n",
    "b[\"Rough Rice\"]\n",
    "\n",
    "# By analyzing commodity and close column we found that \"Rough rice\" having best average market's closing price."
   ]
  },
  {
   "cell_type": "code",
   "execution_count": 26,
   "id": "efbbc517",
   "metadata": {},
   "outputs": [
    {
     "name": "stdout",
     "output_type": "stream",
     "text": [
      "maximum trade for corn            date\n",
      "4216 2017-06-07\n",
      "\n",
      "minimum trade for corn            date\n",
      "821  2003-12-11\n",
      "1328 2005-12-13\n",
      "4486 2018-07-03\n",
      "4528 2018-08-31\n",
      "5682 2023-04-06\n"
     ]
    }
   ],
   "source": [
    "#8.Which year corn have the highest and lowest Number of contracts traded\n",
    "a=data[\"volume\"].max()\n",
    "b=data[\"volume\"].min()\n",
    "k=data.loc[(data[\"volume\"]==a) & (data[\"commodity\"]==\"Corn\"),[\"date\"]]\n",
    "l=data.loc[(data[\"volume\"]==b) & (data[\"commodity\"]==\"Corn\"),[\"date\"]]\n",
    "print(\"maximum trade for corn\",k)\n",
    "print()\n",
    "print(\"minimum trade for corn\",l)\n",
    "# by analyzing commodity and volume column we found that on 2017-06-07 corn having maximum trade.\n",
    "#by analyzing commodity and volume column we found that on 821  2003-12-11\n",
    "#1328 2005-12-13\n",
    "#4486 2018-07-03\n",
    "#4528 2018-08-31\n",
    "#5682 2023-04-06 corn having minimum trade.\n"
   ]
  },
  {
   "cell_type": "code",
   "execution_count": null,
   "id": "fc98b63c",
   "metadata": {},
   "outputs": [],
   "source": []
  }
 ],
 "metadata": {
  "kernelspec": {
   "display_name": "Python 3 (ipykernel)",
   "language": "python",
   "name": "python3"
  },
  "language_info": {
   "codemirror_mode": {
    "name": "ipython",
    "version": 3
   },
   "file_extension": ".py",
   "mimetype": "text/x-python",
   "name": "python",
   "nbconvert_exporter": "python",
   "pygments_lexer": "ipython3",
   "version": "3.9.13"
  }
 },
 "nbformat": 4,
 "nbformat_minor": 5
}
