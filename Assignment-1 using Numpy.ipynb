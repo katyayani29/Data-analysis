{
 "cells": [
  {
   "cell_type": "code",
   "execution_count": 9,
   "id": "25fec13f",
   "metadata": {},
   "outputs": [],
   "source": [
    "import numpy as np"
   ]
  },
  {
   "cell_type": "code",
   "execution_count": 10,
   "id": "5bf74bb1",
   "metadata": {},
   "outputs": [
    {
     "name": "stdout",
     "output_type": "stream",
     "text": [
      "[[[[[0 0 0 0 0]\n",
      "    [0 0 0 0 0]\n",
      "    [0 0 0 0 0]\n",
      "    [0 0 0 0 0]]\n",
      "\n",
      "   [[0 0 0 0 0]\n",
      "    [0 0 0 0 0]\n",
      "    [0 0 0 0 0]\n",
      "    [0 0 0 0 0]]\n",
      "\n",
      "   [[0 0 0 0 0]\n",
      "    [0 0 0 0 0]\n",
      "    [0 0 0 0 0]\n",
      "    [0 0 0 0 0]]]\n",
      "\n",
      "\n",
      "  [[[0 0 0 0 0]\n",
      "    [0 0 0 0 0]\n",
      "    [0 0 0 0 0]\n",
      "    [0 0 0 0 0]]\n",
      "\n",
      "   [[0 0 0 0 0]\n",
      "    [0 0 0 0 0]\n",
      "    [0 0 0 0 0]\n",
      "    [0 0 0 0 0]]\n",
      "\n",
      "   [[0 0 0 0 0]\n",
      "    [0 0 0 0 0]\n",
      "    [0 0 0 0 0]\n",
      "    [0 0 0 0 0]]]]]\n",
      "[[[[[1 1 1 1 1]\n",
      "    [1 1 1 1 1]\n",
      "    [1 1 1 1 1]\n",
      "    [1 1 1 1 1]]\n",
      "\n",
      "   [[1 1 1 1 1]\n",
      "    [1 1 1 1 1]\n",
      "    [1 1 1 1 1]\n",
      "    [1 1 1 1 1]]\n",
      "\n",
      "   [[1 1 1 1 1]\n",
      "    [1 1 1 1 1]\n",
      "    [1 1 1 1 1]\n",
      "    [1 1 1 1 1]]]\n",
      "\n",
      "\n",
      "  [[[1 1 1 1 1]\n",
      "    [1 1 1 1 1]\n",
      "    [1 1 1 1 1]\n",
      "    [1 1 1 1 1]]\n",
      "\n",
      "   [[1 1 1 1 1]\n",
      "    [1 1 1 1 1]\n",
      "    [1 1 1 1 1]\n",
      "    [1 1 1 1 1]]\n",
      "\n",
      "   [[1 1 1 1 1]\n",
      "    [1 1 1 1 1]\n",
      "    [1 1 1 1 1]\n",
      "    [1 1 1 1 1]]]]]\n"
     ]
    }
   ],
   "source": [
    "#1. Write a program to create a 5 dimensional array with all zeros and ones\n",
    "w=np.zeros((1,2,3,4,5),dtype=int)\n",
    "print(w)\n",
    "k=np.ones((1,2,3,4,5),dtype=int)\n",
    "print(k)\n"
   ]
  },
  {
   "cell_type": "code",
   "execution_count": 11,
   "id": "49d23a63",
   "metadata": {},
   "outputs": [
    {
     "name": "stdout",
     "output_type": "stream",
     "text": [
      "[0 0 0 0 0 0 0 0 0 0]\n",
      "[1 1 1 1 1 1 1 1 1 1]\n",
      "[5 5 5 5 5 5 5 5 5 5]\n"
     ]
    }
   ],
   "source": [
    "#2.Write a program to create an array of 10 zeros,10 ones, and 10 fives in row 1 2 and 3 which\n",
    "#create a new array of shape (3,10)\n",
    "z= np.zeros((10),dtype=int)\n",
    "k= np.ones((10),dtype=int)\n",
    "m= np.full(10, 5)\n",
    "print(z)\n",
    "print(k)\n",
    "print(m)\n",
    "\n"
   ]
  },
  {
   "cell_type": "code",
   "execution_count": 12,
   "id": "30561461",
   "metadata": {},
   "outputs": [
    {
     "data": {
      "text/plain": [
       "array([[10, 11, 12, 13],\n",
       "       [14, 15, 16, 17],\n",
       "       [18, 19, 20, 21]])"
      ]
     },
     "execution_count": 12,
     "metadata": {},
     "output_type": "execute_result"
    }
   ],
   "source": [
    "#3.Write a program to create a 3x4 matrix filled with values from 10 to 21.\n",
    "np.arange(10,22).reshape(3,4)"
   ]
  },
  {
   "cell_type": "code",
   "execution_count": 13,
   "id": "3319c63e",
   "metadata": {},
   "outputs": [
    {
     "data": {
      "text/plain": [
       "array([[0, 0, 0, 0, 0, 0, 0, 0, 0, 0],\n",
       "       [0, 1, 0, 0, 0, 0, 0, 0, 0, 0],\n",
       "       [0, 0, 2, 0, 0, 0, 0, 0, 0, 0],\n",
       "       [0, 0, 0, 3, 0, 0, 0, 0, 0, 0],\n",
       "       [0, 0, 0, 0, 4, 0, 0, 0, 0, 0],\n",
       "       [0, 0, 0, 0, 0, 5, 0, 0, 0, 0],\n",
       "       [0, 0, 0, 0, 0, 0, 6, 0, 0, 0],\n",
       "       [0, 0, 0, 0, 0, 0, 0, 7, 0, 0],\n",
       "       [0, 0, 0, 0, 0, 0, 0, 0, 8, 0],\n",
       "       [0, 0, 0, 0, 0, 0, 0, 0, 0, 9]])"
      ]
     },
     "execution_count": 13,
     "metadata": {},
     "output_type": "execute_result"
    }
   ],
   "source": [
    "#4. Write a program to create a 10x10 zero matrix with elements on the main diagonal equal to\n",
    "#0,1,2,3,4,5,6,7,8,9,\n",
    "np.diag([0,1,2,3,4,5,6,7,8,9]).reshape(10,10)"
   ]
  },
  {
   "cell_type": "code",
   "execution_count": 14,
   "id": "947d1b27",
   "metadata": {},
   "outputs": [
    {
     "name": "stdout",
     "output_type": "stream",
     "text": [
      "[[13 14 15 16]\n",
      " [ 9 10 11 12]\n",
      " [ 5  6  7  8]\n",
      " [ 1  2  3  4]]\n"
     ]
    }
   ],
   "source": [
    "#5.)Write a program to create a 4x4 array. Create an array from below array by swapping first and\n",
    "#last, second and third columns.\n",
    "l=np.arange(1,17).reshape(4,4)\n",
    "k=l[::-1]\n",
    "print(k)"
   ]
  },
  {
   "cell_type": "code",
   "execution_count": 15,
   "id": "a9807885",
   "metadata": {},
   "outputs": [
    {
     "data": {
      "text/plain": [
       "array([27, 26, 25, 24, 23, 22, 21, 20, 19, 18, 17, 16, 15, 14, 13, 12])"
      ]
     },
     "execution_count": 15,
     "metadata": {},
     "output_type": "execute_result"
    }
   ],
   "source": [
    "#6. Write a program to reverse an array (the first element becomes the last).\n",
    "#Given array:\n",
    "#[12 13 14 15 16 17 18 19 20 21 22 23 24 25 26 27 ]\n",
    "np.arange(27,11,-1)"
   ]
  },
  {
   "cell_type": "code",
   "execution_count": 16,
   "id": "edc9d293",
   "metadata": {},
   "outputs": [],
   "source": [
    "#7.) Write a program to access all the elements greater than 30 and less than 80 and multiples of 5\n",
    "#from an array of shape 10,10 .Elements range from 1 to 100\n",
    "n=np.arange(1,101).reshape(10,10)\n",
    "m=(n>30) &(n<80) & (n%5==0)"
   ]
  },
  {
   "cell_type": "code",
   "execution_count": 17,
   "id": "7955a5e0",
   "metadata": {},
   "outputs": [
    {
     "data": {
      "text/plain": [
       "array([35, 40, 45, 50, 55, 60, 65, 70, 75])"
      ]
     },
     "execution_count": 17,
     "metadata": {},
     "output_type": "execute_result"
    }
   ],
   "source": [
    "n[m]"
   ]
  },
  {
   "cell_type": "code",
   "execution_count": 18,
   "id": "19ba5394",
   "metadata": {},
   "outputs": [
    {
     "data": {
      "text/plain": [
       "array([[1, 0],\n",
       "       [0, 0]])"
      ]
     },
     "execution_count": 18,
     "metadata": {},
     "output_type": "execute_result"
    }
   ],
   "source": [
    "#8.Write a program to create a 2D array with 1 on the border and 0 inside.\n",
    "np.array([1,0,0,0]).reshape(2,2)"
   ]
  },
  {
   "cell_type": "code",
   "execution_count": 37,
   "id": "a2493d94",
   "metadata": {},
   "outputs": [
    {
     "name": "stdout",
     "output_type": "stream",
     "text": [
      "[[1 1 0 1 0 1 0 1]\n",
      " [0 1 0 1 0 1 0 1]\n",
      " [1 1 0 1 0 1 0 1]\n",
      " [0 1 0 1 0 1 0 1]\n",
      " [1 1 0 1 0 1 0 1]\n",
      " [0 1 0 1 0 1 0 1]\n",
      " [1 1 0 1 0 1 0 1]\n",
      " [0 1 0 1 0 1 0 1]]\n"
     ]
    }
   ],
   "source": [
    "#9.Write a program to create a checkerboard pattern .Don't use default array function\n",
    "#Checkerboard pattern:\n",
    "#[[0 1 0 1 0 1 0 1]\n",
    "#[1 0 1 0 1 0 1 0]\n",
    "#[0 1 0 1 0 1 0 1]\n",
    "#[1 0 1 0 1 0 1 0]\n",
    "#[0 1 0 1 0 1 0 1]\n",
    "#[1 0 1 0 1 0 1 0]\n",
    "#[0 1 0 1 0 1 0 1]\n",
    "#[1 0 1 0 1 0 1 0]]\n",
    "l=[]\n",
    "for i in range(0,64):\n",
    "    a=i/8\n",
    "    if(a%2==0):\n",
    "        if(i%2==0):\n",
    "            l.append(1)\n",
    "        else:\n",
    "            l.append(0)\n",
    "    else:\n",
    "        if(i%2==0):\n",
    "            l.append(0)\n",
    "        else:\n",
    "            l.append(1)\n",
    "            \n",
    "x=np.array(l).reshape(8,8)\n",
    "print(x)\n",
    "\n",
    "\n",
    "\n"
   ]
  },
  {
   "cell_type": "code",
   "execution_count": 20,
   "id": "7a77b6bd",
   "metadata": {},
   "outputs": [
    {
     "name": "stdout",
     "output_type": "stream",
     "text": [
      "[10]\n",
      "[10, 40]\n"
     ]
    }
   ],
   "source": [
    "#10.) Write a program to find common values between two arrays.\n",
    "#Expected Output:\n",
    "#array1: [10 20 40 60]\n",
    "#array2: [10, 30, 40,50]\n",
    "k=[10,20,40,60]\n",
    "R=[10,30,40,50]\n",
    "l=[]\n",
    "for i in k:\n",
    "    if i in R:\n",
    "        l.append(i)\n",
    "        print(l)\n",
    "    \n",
    "    \n"
   ]
  },
  {
   "cell_type": "code",
   "execution_count": 36,
   "id": "81a60404",
   "metadata": {},
   "outputs": [
    {
     "name": "stdout",
     "output_type": "stream",
     "text": [
      "[[1 2 3 4]]\n",
      "[1 2 3 4]\n"
     ]
    }
   ],
   "source": [
    "#11.Write a program to create an array 2d array and then reshape into 1d array\n",
    "k=([1,2,3,4])\n",
    "l=[]\n",
    "l.append(k)\n",
    "n=len(l)\n",
    "x=np.array(l,ndmin=2)\n",
    "print(x)\n",
    "print(x.reshape(-1))\n",
    "\n",
    "\n",
    "\n"
   ]
  },
  {
   "cell_type": "code",
   "execution_count": 45,
   "id": "312f79cf",
   "metadata": {},
   "outputs": [],
   "source": [
    "#12.) Write a user defined function for creating a 1 or 2d array from scratch without using array\n",
    "#functions\n",
    "def n(rows, cols=None):\n",
    "    if cols is None:\n",
    "         array = [0] * rows\n",
    "    else:\n",
    "        array = [[0] * cols for _ in range(rows)]\n",
    "        return array\n",
    "    array_1d = n(5)\n",
    "\n",
    "\n",
    "# i am not getting this code sir"
   ]
  },
  {
   "cell_type": "code",
   "execution_count": null,
   "id": "7800f584",
   "metadata": {},
   "outputs": [],
   "source": []
  },
  {
   "cell_type": "code",
   "execution_count": null,
   "id": "ece55710",
   "metadata": {},
   "outputs": [],
   "source": []
  }
 ],
 "metadata": {
  "kernelspec": {
   "display_name": "Python 3 (ipykernel)",
   "language": "python",
   "name": "python3"
  },
  "language_info": {
   "codemirror_mode": {
    "name": "ipython",
    "version": 3
   },
   "file_extension": ".py",
   "mimetype": "text/x-python",
   "name": "python",
   "nbconvert_exporter": "python",
   "pygments_lexer": "ipython3",
   "version": "3.9.13"
  }
 },
 "nbformat": 4,
 "nbformat_minor": 5
}
