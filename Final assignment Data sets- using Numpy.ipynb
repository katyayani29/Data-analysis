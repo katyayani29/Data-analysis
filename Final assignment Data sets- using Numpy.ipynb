{
 "cells": [
  {
   "cell_type": "code",
   "execution_count": 7,
   "id": "b8d25ac6",
   "metadata": {},
   "outputs": [],
   "source": [
    "import numpy as np"
   ]
  },
  {
   "cell_type": "code",
   "execution_count": 8,
   "id": "24076aa8",
   "metadata": {},
   "outputs": [],
   "source": [
    "w=np.genfromtxt(r\"C:\\Users\\KATYAYANI\\Downloads\\tipsf.csv\",delimiter=\",\",skip_header=1)"
   ]
  },
  {
   "cell_type": "code",
   "execution_count": 9,
   "id": "16045069",
   "metadata": {},
   "outputs": [
    {
     "data": {
      "text/plain": [
       "array([[  0.  ,  16.99,   1.01, ...,   1.  ,   0.  ,   2.  ],\n",
       "       [  1.  ,  10.34,   1.66, ...,   1.  ,   0.  ,   3.  ],\n",
       "       [  2.  ,  21.01,   3.5 , ...,   1.  ,   0.  ,   3.  ],\n",
       "       ...,\n",
       "       [241.  ,  22.67,   2.  , ...,   0.  ,   0.  ,   2.  ],\n",
       "       [242.  ,  17.82,   1.75, ...,   0.  ,   0.  ,   2.  ],\n",
       "       [243.  ,  18.78,   3.  , ...,   2.  ,   0.  ,   2.  ]])"
      ]
     },
     "execution_count": 9,
     "metadata": {},
     "output_type": "execute_result"
    }
   ],
   "source": [
    "w"
   ]
  },
  {
   "cell_type": "code",
   "execution_count": 10,
   "id": "08de1ce6",
   "metadata": {},
   "outputs": [
    {
     "data": {
      "text/plain": [
       "4827.77"
      ]
     },
     "execution_count": 10,
     "metadata": {},
     "output_type": "execute_result"
    }
   ],
   "source": [
    "#1.what is the total bill value\n",
    "np.sum(w[:,1])"
   ]
  },
  {
   "cell_type": "code",
   "execution_count": 11,
   "id": "b14985e3",
   "metadata": {},
   "outputs": [
    {
     "data": {
      "text/plain": [
       "731.5799999999999"
      ]
     },
     "execution_count": 11,
     "metadata": {},
     "output_type": "execute_result"
    }
   ],
   "source": [
    "#2.what is the total tip value\n",
    "np.sum(w[:,2])"
   ]
  },
  {
   "cell_type": "code",
   "execution_count": 12,
   "id": "14fc28b6",
   "metadata": {},
   "outputs": [
    {
     "name": "stdout",
     "output_type": "stream",
     "text": [
      "sunday= 87\n",
      "saturday= 76\n",
      "thursaday= 62\n",
      "friday= 19\n"
     ]
    }
   ],
   "source": [
    "#3.count how many number os sat,sun,thu,fri are there\n",
    "k=np.unique(w[:,5],return_counts=True)\n",
    "m,n=k\n",
    "j=0\n",
    "for i in m:\n",
    "    if (i==0):\n",
    "        print(\"sunday=\",n[j])\n",
    "        j+=1\n",
    "    elif (i==1):\n",
    "        print(\"saturday=\",n[j])\n",
    "        j+=1\n",
    "    elif (i==2):\n",
    "        print(\"thursaday=\",n[j])\n",
    "        j+=1\n",
    "    elif (i==3):\n",
    "        print(\"friday=\",n[j])\n",
    "        j+=1"
   ]
  },
  {
   "cell_type": "code",
   "execution_count": 13,
   "id": "2a61dfd9",
   "metadata": {},
   "outputs": [
    {
     "data": {
      "text/plain": [
       "93"
      ]
     },
     "execution_count": 13,
     "metadata": {},
     "output_type": "execute_result"
    }
   ],
   "source": [
    "#4.how many smokers are there\n",
    "np.sum(w[:,4],dtype=int)"
   ]
  },
  {
   "cell_type": "code",
   "execution_count": 30,
   "id": "584bc873",
   "metadata": {},
   "outputs": [
    {
     "name": "stdout",
     "output_type": "stream",
     "text": [
      "2.8334482758620685 average tip given by female\n",
      "3.0896178343949043 average tip given by male\n"
     ]
    }
   ],
   "source": [
    "#5.whats is the average tip given by men and women\n",
    "r=np.sum(w[:,2].take(np.where(w[:,3]==0)))\n",
    "k=np.sum(w[:,2].take(np.where(w[:,3]==1)))\n",
    "b=np.unique(w[:,3],return_counts=True)\n",
    "q,a=b\n",
    "print(r/a[0],\"average tip given by female\")\n",
    "print(k/a[1],\"average tip given by male\")"
   ]
  },
  {
   "cell_type": "code",
   "execution_count": 31,
   "id": "f945ce27",
   "metadata": {},
   "outputs": [
    {
     "name": "stdout",
     "output_type": "stream",
     "text": [
      "total amount spent by female:  1571.0\n",
      "total amount spent by male:  3257.0\n"
     ]
    }
   ],
   "source": [
    "#6.how much money spent by men and women\n",
    "a=np.sum(w[:,1].take(np.where(w[:,3]==0)))\n",
    "b=np.sum(w[:,1].take(np.where(w[:,3]==1)))\n",
    "print(\"total amount spent by female: \",np.round(a))\n",
    "print(\"total amount spent by male: \",np.round(b))"
   ]
  },
  {
   "cell_type": "code",
   "execution_count": 11,
   "id": "486e0e66",
   "metadata": {},
   "outputs": [
    {
     "name": "stdout",
     "output_type": "stream",
     "text": [
      "min of tip 1.0\n",
      "max of tip 10.0\n"
     ]
    }
   ],
   "source": [
    "#7.what is min and max tip given\n",
    "k=np.min(w[:,2])\n",
    "m=np.max(w[:,2])\n",
    "print(\"min of tip\",k)\n",
    "print(\"max of tip\",m)\n"
   ]
  },
  {
   "cell_type": "code",
   "execution_count": 1,
   "id": "71848f0f",
   "metadata": {},
   "outputs": [],
   "source": [
    "#8.how many males and females are going for dinner and lunch\n"
   ]
  },
  {
   "cell_type": "code",
   "execution_count": 34,
   "id": "0c047db7",
   "metadata": {},
   "outputs": [
    {
     "name": "stdout",
     "output_type": "stream",
     "text": [
      "average of size =  3.0\n"
     ]
    }
   ],
   "source": [
    "#9.find out average size\n",
    "k=np.unique(w[:,7],return_counts=True)\n",
    "a,b=k\n",
    "avg=np.sum(w[:,7])/np.sum(b)\n",
    "print(\"average of size = \",np.round(avg))"
   ]
  },
  {
   "cell_type": "code",
   "execution_count": 29,
   "id": "bf3d4847",
   "metadata": {},
   "outputs": [
    {
     "name": "stdout",
     "output_type": "stream",
     "text": [
      "female smokers are : 33\n",
      "male smokers are : 60\n"
     ]
    }
   ],
   "source": [
    "#10.how many female and male smokers are there\n",
    "k=np.unique(w[:,3].take(np.where((w[:,4]==1))),return_counts=True)\n",
    "a,b=k\n",
    "for i in a:\n",
    "    if (i==0):\n",
    "        print(\"female smokers are :\",b[0])\n",
    "    else:\n",
    "        print(\"male smokers are :\",b[1])\n"
   ]
  },
  {
   "cell_type": "code",
   "execution_count": null,
   "id": "31da1dd0",
   "metadata": {},
   "outputs": [],
   "source": []
  },
  {
   "cell_type": "code",
   "execution_count": null,
   "id": "53b5bfbf",
   "metadata": {},
   "outputs": [],
   "source": []
  },
  {
   "cell_type": "code",
   "execution_count": 1,
   "id": "133b0f05",
   "metadata": {},
   "outputs": [],
   "source": [
    "import numpy as np"
   ]
  },
  {
   "cell_type": "code",
   "execution_count": 2,
   "id": "306b89cf",
   "metadata": {},
   "outputs": [],
   "source": [
    "w=np.genfromtxt(r\"C:\\Users\\KATYAYANI\\Downloads\\train_extended.csv\",delimiter=\",\",skip_header=1)"
   ]
  },
  {
   "cell_type": "code",
   "execution_count": 3,
   "id": "5a45b08d",
   "metadata": {},
   "outputs": [
    {
     "data": {
      "text/plain": [
       "array([[ 1.575     ,  1.225     ,  0.375     , ...,  6.3219385 ,\n",
       "         9.63883   , 10.        ],\n",
       "       [ 1.2375    ,  1.        ,  0.375     , ...,  3.798833  ,\n",
       "         7.654365  , 19.        ],\n",
       "       [ 1.45      ,  1.1625    ,  0.4125    , ...,  7.01650125,\n",
       "         7.257472  , 11.        ],\n",
       "       ...,\n",
       "       [ 1.125     ,  0.9125    ,  0.2875    , ...,  1.984465  ,\n",
       "         3.118445  ,  7.        ],\n",
       "       [ 1.625     ,  1.275     ,  0.4125    , ...,  7.86698625,\n",
       "        10.489315  , 11.        ],\n",
       "       [ 1.5875    ,  1.25      ,  0.3875    , ...,  7.38504475,\n",
       "         8.788345  , 11.        ]])"
      ]
     },
     "execution_count": 3,
     "metadata": {},
     "output_type": "execute_result"
    }
   ],
   "source": [
    "w"
   ]
  },
  {
   "cell_type": "code",
   "execution_count": 4,
   "id": "6315f051",
   "metadata": {},
   "outputs": [
    {
     "name": "stdout",
     "output_type": "stream",
     "text": [
      "minimum length 0.0\n",
      "maximum length 7.58349125\n"
     ]
    }
   ],
   "source": [
    "#1.what is the max and min length\n",
    "k=np.min(w[:,0])\n",
    "m=np.max(w[:,0])\n",
    "print(\"minimum length\",k)\n",
    "print(\"maximum length\",m)"
   ]
  },
  {
   "cell_type": "code",
   "execution_count": 5,
   "id": "87c85bbb",
   "metadata": {},
   "outputs": [
    {
     "name": "stdout",
     "output_type": "stream",
     "text": [
      "difference 80.10151225\n"
     ]
    }
   ],
   "source": [
    "#2.findout difference between maximum and minimum\n",
    "a=np.max(w)-np.min(w)\n",
    "print(\"difference\",a)"
   ]
  },
  {
   "cell_type": "code",
   "execution_count": 6,
   "id": "4c12d3d2",
   "metadata": {},
   "outputs": [
    {
     "data": {
      "text/plain": [
       "array([ 1.31244808,  1.02032036,  0.34602787, 23.12343631,  9.98937025,\n",
       "        4.99318096,  6.63422915,  9.950615  ])"
      ]
     },
     "execution_count": 6,
     "metadata": {},
     "output_type": "execute_result"
    }
   ],
   "source": [
    "#3.find column wise average\n",
    "def f1(w):\n",
    "    return np.sum(w)/200000\n",
    "np.apply_along_axis(f1,0,w)\n",
    "    "
   ]
  },
  {
   "cell_type": "code",
   "execution_count": 7,
   "id": "d79f498a",
   "metadata": {},
   "outputs": [
    {
     "name": "stdout",
     "output_type": "stream",
     "text": [
      "(1, 55336)\n",
      "[[11. 14. 13. ... 11. 11. 11.]]\n"
     ]
    }
   ],
   "source": [
    "#4.findout all the ages whose height is >0.\n",
    "z=w[:,7].take(np.where(w[:,2]>0.4))\n",
    "print(z.shape)\n",
    "print(z)\n",
    "    "
   ]
  },
  {
   "cell_type": "code",
   "execution_count": 8,
   "id": "a2819acd",
   "metadata": {},
   "outputs": [
    {
     "ename": "IndexError",
     "evalue": "too many indices for array: array is 0-dimensional, but 2 were indexed",
     "output_type": "error",
     "traceback": [
      "\u001b[1;31m---------------------------------------------------------------------------\u001b[0m",
      "\u001b[1;31mIndexError\u001b[0m                                Traceback (most recent call last)",
      "\u001b[1;32m~\\AppData\\Local\\Temp\\ipykernel_5152\\1978473870.py\u001b[0m in \u001b[0;36m<module>\u001b[1;34m\u001b[0m\n\u001b[0;32m      1\u001b[0m \u001b[1;31m#5.what is the average height and weight of the persons who age is 10\u001b[0m\u001b[1;33m\u001b[0m\u001b[1;33m\u001b[0m\u001b[0m\n\u001b[0;32m      2\u001b[0m \u001b[0mn\u001b[0m\u001b[1;33m=\u001b[0m\u001b[0mnp\u001b[0m\u001b[1;33m.\u001b[0m\u001b[0marray\u001b[0m\u001b[1;33m(\u001b[0m\u001b[0mk\u001b[0m\u001b[1;33m)\u001b[0m\u001b[1;33m\u001b[0m\u001b[1;33m\u001b[0m\u001b[0m\n\u001b[1;32m----> 3\u001b[1;33m \u001b[0mage_10_n\u001b[0m \u001b[1;33m=\u001b[0m \u001b[0mn\u001b[0m\u001b[1;33m[\u001b[0m\u001b[0mn\u001b[0m\u001b[1;33m[\u001b[0m\u001b[1;33m:\u001b[0m\u001b[1;33m,\u001b[0m\u001b[1;36m2\u001b[0m\u001b[1;33m]\u001b[0m \u001b[1;33m==\u001b[0m \u001b[1;36m10\u001b[0m\u001b[1;33m]\u001b[0m\u001b[1;33m\u001b[0m\u001b[1;33m\u001b[0m\u001b[0m\n\u001b[0m\u001b[0;32m      4\u001b[0m \u001b[0mavg_height\u001b[0m \u001b[1;33m=\u001b[0m \u001b[0mnp\u001b[0m\u001b[1;33m.\u001b[0m\u001b[0mmean\u001b[0m\u001b[1;33m(\u001b[0m\u001b[0mage_10_n\u001b[0m\u001b[1;33m[\u001b[0m\u001b[1;33m:\u001b[0m\u001b[1;33m,\u001b[0m\u001b[1;36m2\u001b[0m\u001b[1;33m]\u001b[0m\u001b[1;33m)\u001b[0m\u001b[1;33m\u001b[0m\u001b[1;33m\u001b[0m\u001b[0m\n\u001b[0;32m      5\u001b[0m \u001b[0mavg_weight\u001b[0m \u001b[1;33m=\u001b[0m \u001b[0mnp\u001b[0m\u001b[1;33m.\u001b[0m\u001b[0mmean\u001b[0m\u001b[1;33m(\u001b[0m\u001b[0mage_10_n\u001b[0m\u001b[1;33m[\u001b[0m\u001b[1;33m:\u001b[0m\u001b[1;33m,\u001b[0m\u001b[1;36m3\u001b[0m\u001b[1;33m]\u001b[0m\u001b[1;33m)\u001b[0m\u001b[1;33m\u001b[0m\u001b[1;33m\u001b[0m\u001b[0m\n",
      "\u001b[1;31mIndexError\u001b[0m: too many indices for array: array is 0-dimensional, but 2 were indexed"
     ]
    }
   ],
   "source": [
    "#5.what is the average height and weight of the persons who age is 10\n",
    "n=np.array(k)\n",
    "age_10_n = n[n[:,2] == 10]\n",
    "avg_height = np.mean(age_10_n[:,2])\n",
    "avg_weight = np.mean(age_10_n[:,3])\n",
    "\n",
    "print(\"Average Height for age 10:\", avg_height)\n",
    "print(\"Average Weight for age 10:\", avg_weight)\n",
    "\n",
    "#i am not getting this code sir\n"
   ]
  },
  {
   "cell_type": "code",
   "execution_count": 9,
   "id": "1ea64ac2",
   "metadata": {},
   "outputs": [
    {
     "data": {
      "text/plain": [
       "1326846.0"
      ]
     },
     "execution_count": 9,
     "metadata": {},
     "output_type": "execute_result"
    }
   ],
   "source": [
    "#6.what is the total shell weight\n",
    "np.round(np.sum(w[:,6]))"
   ]
  },
  {
   "cell_type": "code",
   "execution_count": 10,
   "id": "1eb6857d",
   "metadata": {},
   "outputs": [
    {
     "data": {
      "text/plain": [
       "(array([ 1.,  2.,  3.,  4.,  5.,  6.,  7.,  8.,  9., 10., 11., 12., 13.,\n",
       "        14., 15., 16., 17., 18., 19., 20., 21., 22., 23., 24., 25., 26.,\n",
       "        27., 29.]),\n",
       " array([   46,    42,   625,  2787,  5475, 12450, 18276, 26818, 32906,\n",
       "        30803, 23457, 12717, 10037,  6352,  4831,  3191,  2705,  1953,\n",
       "         1591,  1206,   721,   296,   352,   110,    51,    46,    99,\n",
       "           57], dtype=int64))"
      ]
     },
     "execution_count": 10,
     "metadata": {},
     "output_type": "execute_result"
    }
   ],
   "source": [
    "#7.how many persons belongs to each and unique age\n",
    "np.unique(w[:,7],return_counts=True)"
   ]
  },
  {
   "cell_type": "code",
   "execution_count": 11,
   "id": "b76a1880",
   "metadata": {},
   "outputs": [
    {
     "name": "stdout",
     "output_type": "stream",
     "text": [
      "differnce between shucked weight and viscara weight 999238.0\n"
     ]
    }
   ],
   "source": [
    "#8.what is difference between shucked weight and viscara weight\n",
    "k=np.sum(w[:,4])-np.sum(w[:,5])\n",
    "print(\"differnce between shucked weight and viscara weight\",np.round(k))"
   ]
  },
  {
   "cell_type": "code",
   "execution_count": 12,
   "id": "78359927",
   "metadata": {},
   "outputs": [
    {
     "name": "stdout",
     "output_type": "stream",
     "text": [
      "average height of the persons age is between 14 and 19 is  7.0\n"
     ]
    }
   ],
   "source": [
    "#9.what is the average height of the persons whose age between 14 &19\n",
    "k=w.take(np.where((w[:,7]>14) & (w[:,7]<19)))\n",
    "sum=np.sum(k)\n",
    "count=list(k.shape)\n",
    "print(\"average height of the persons age is between 14 and 19 is \",np.round(sum/count[1]))"
   ]
  },
  {
   "cell_type": "code",
   "execution_count": 13,
   "id": "cd77732b",
   "metadata": {},
   "outputs": [
    {
     "name": "stdout",
     "output_type": "stream",
     "text": [
      "the average weight if we included shucked weight,viscara weight,and shell weight 8948043.333077429\n"
     ]
    }
   ],
   "source": [
    "k=np.sum(w[:,3:7])\n",
    "c=list(w.shape)\n",
    "print(\"the average weight if we included shucked weight,viscara weight,and shell weight\",k)"
   ]
  },
  {
   "cell_type": "code",
   "execution_count": null,
   "id": "d03faacc",
   "metadata": {},
   "outputs": [],
   "source": []
  }
 ],
 "metadata": {
  "kernelspec": {
   "display_name": "Python 3 (ipykernel)",
   "language": "python",
   "name": "python3"
  },
  "language_info": {
   "codemirror_mode": {
    "name": "ipython",
    "version": 3
   },
   "file_extension": ".py",
   "mimetype": "text/x-python",
   "name": "python",
   "nbconvert_exporter": "python",
   "pygments_lexer": "ipython3",
   "version": "3.9.13"
  }
 },
 "nbformat": 4,
 "nbformat_minor": 5
}
